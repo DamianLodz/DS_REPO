{
 "cells": [
  {
   "cell_type": "code",
   "execution_count": 1,
   "metadata": {},
   "outputs": [],
   "source": [
    "import numpy as np\n",
    "import pandas as pd\n",
    "import matplotlib.pyplot as plt\n",
    "import matplotlib.gridspec as gridspec\n",
    "import seaborn as sns\n",
    "from sklearn.model_selection import KFold\n",
    "from sklearn.preprocessing import StandardScaler\n",
    "from sklearn.metrics import classification_report,accuracy_score, confusion_matrix, f1_score\n",
    "from sklearn.model_selection import train_test_split\n",
    "from sklearn.linear_model import LogisticRegression\n",
    "from sklearn.linear_model import LinearRegression, Lasso, Ridge\n",
    "from sklearn.ensemble import AdaBoostClassifier\n",
    "from sklearn.ensemble import RandomForestClassifier\n",
    "from sklearn.metrics import roc_auc_score\n",
    "from sklearn.metrics import recall_score\n",
    "from sklearn.metrics import precision_score\n",
    "from sklearn.metrics import roc_curve\n",
    "from sklearn.metrics import precision_score\n",
    "from sklearn.metrics import precision_recall_curve"
   ]
  },
  {
   "cell_type": "code",
   "execution_count": 2,
   "metadata": {},
   "outputs": [],
   "source": [
    "typy = {'MONTH': np.int8, 'DAY_OF_MONTH': np.int8, 'DAY_OF_WEEK': np.int8, 'FL_DATE': 'category', 'OP_UNIQUE_CARRIER': 'category',\n",
    "        'TAIL_NUM': 'category', 'OP_CARRIER_FL_NUM': 'category',  'ORIGIN': 'category', 'DEST': 'category', 'CRS_DEP_TIME':np.int16, 'DEP_DELAY':np.float16,\n",
    "        'CRS_ARR_TIME': np.int16, 'ARR_DELAY': np.float16, 'DISTANCE': np.int16}\n",
    "kolumnyczas = ['MONTH', 'DAY_OF_MONTH', 'DAY_OF_WEEK','FL_DATE','OP_UNIQUE_CARRIER', 'TAIL_NUM', 'OP_CARRIER_FL_NUM',\n",
    "               'ORIGIN','DEST','CRS_DEP_TIME', 'DEP_DELAY','CRS_ARR_TIME', 'ARR_DELAY', 'DISTANCE']\n",
    "days_to_rename = {1: 'Poniedzialek',\n",
    "                  2: 'Wtorek',\n",
    "                  3: 'Sroda',\n",
    "                  4: 'Czwartek',\n",
    "                  5: 'Piatek',\n",
    "                  6: 'Sobota',\n",
    "                  7: 'Niedziela'}\n",
    "months_to_rename = {1: 'Styczen',\n",
    "                    2: 'Luty',\n",
    "                    3: 'Marzec',\n",
    "                    4: 'Kwiecien',\n",
    "                    5: 'Maj',\n",
    "                    6: 'Czerwiec',\n",
    "                    7: 'Lipiec',\n",
    "                    8: 'Sierpien',\n",
    "                    9: 'Wrzesien',\n",
    "                    10: 'Pazdziernik',\n",
    "                    11: 'Listopad',\n",
    "                    12: 'Grudzien'}"
   ]
  },
  {
   "cell_type": "code",
   "execution_count": 3,
   "metadata": {},
   "outputs": [],
   "source": [
    "def reduce_mem_usage(df):\n",
    "    \"\"\" iterate through all the columns of a dataframe and modify the data type\n",
    "        to reduce memory usage.        \n",
    "    \"\"\"\n",
    "    start_mem = df.memory_usage().sum() / 1024**2\n",
    "    print('Memory usage of dataframe is {:.2f} MB'.format(start_mem))\n",
    "    \n",
    "    for col in df.columns:\n",
    "        col_type = df[col].dtype\n",
    "        \n",
    "        if col_type != object:\n",
    "            c_min = df[col].min()\n",
    "            c_max = df[col].max()\n",
    "            if str(col_type)[:3] == 'int':\n",
    "                if c_min > np.iinfo(np.int8).min and c_max < np.iinfo(np.int8).max:\n",
    "                    df[col] = df[col].astype(np.int8)\n",
    "                elif c_min > np.iinfo(np.int16).min and c_max < np.iinfo(np.int16).max:\n",
    "                    df[col] = df[col].astype(np.int16)\n",
    "                elif c_min > np.iinfo(np.int32).min and c_max < np.iinfo(np.int32).max:\n",
    "                    df[col] = df[col].astype(np.int32)\n",
    "                elif c_min > np.iinfo(np.int64).min and c_max < np.iinfo(np.int64).max:\n",
    "                    df[col] = df[col].astype(np.int64)  \n",
    "            else:\n",
    "                if c_min > np.finfo(np.float16).min and c_max < np.finfo(np.float16).max:\n",
    "                    df[col] = df[col].astype(np.float16)\n",
    "                elif c_min > np.finfo(np.float32).min and c_max < np.finfo(np.float32).max:\n",
    "                    df[col] = df[col].astype(np.float32)\n",
    "                else:\n",
    "                    df[col] = df[col].astype(np.float64)\n",
    "        else:\n",
    "            df[col] = df[col].astype('category')\n",
    "\n",
    "    end_mem = df.memory_usage().sum() / 1024**2\n",
    "    print('Memory usage after optimization is: {:.2f} MB'.format(end_mem))\n",
    "    print('Decreased by {:.1f}%'.format(100 * (start_mem - end_mem) / start_mem))\n",
    "    \n",
    "    return df"
   ]
  },
  {
   "cell_type": "code",
   "execution_count": 4,
   "metadata": {},
   "outputs": [],
   "source": [
    "def import_data(file):\n",
    "    \"\"\"create a dataframe and optimize its memory usage\"\"\"\n",
    "    df = pd.read_csv(file, parse_dates=True, keep_date_col=True)\n",
    "    df = reduce_mem_usage(df)\n",
    "    return df"
   ]
  },
  {
   "cell_type": "code",
   "execution_count": 5,
   "metadata": {},
   "outputs": [
    {
     "name": "stdout",
     "output_type": "stream",
     "text": [
      "Memory usage: 128.3\n"
     ]
    }
   ],
   "source": [
    "\n",
    "df = pd.read_csv('new_base.csv', usecols=kolumnyczas, dtype=typy)\n",
    "print('Memory usage: {:.1f}'.format(df.memory_usage().sum() / 1024**2))"
   ]
  },
  {
   "cell_type": "code",
   "execution_count": 6,
   "metadata": {},
   "outputs": [
    {
     "data": {
      "text/html": [
       "<div>\n",
       "<style scoped>\n",
       "    .dataframe tbody tr th:only-of-type {\n",
       "        vertical-align: middle;\n",
       "    }\n",
       "\n",
       "    .dataframe tbody tr th {\n",
       "        vertical-align: top;\n",
       "    }\n",
       "\n",
       "    .dataframe thead th {\n",
       "        text-align: right;\n",
       "    }\n",
       "</style>\n",
       "<table border=\"1\" class=\"dataframe\">\n",
       "  <thead>\n",
       "    <tr style=\"text-align: right;\">\n",
       "      <th></th>\n",
       "      <th>MONTH</th>\n",
       "      <th>DAY_OF_MONTH</th>\n",
       "      <th>DAY_OF_WEEK</th>\n",
       "      <th>FL_DATE</th>\n",
       "      <th>OP_UNIQUE_CARRIER</th>\n",
       "      <th>TAIL_NUM</th>\n",
       "      <th>OP_CARRIER_FL_NUM</th>\n",
       "      <th>ORIGIN</th>\n",
       "      <th>DEST</th>\n",
       "      <th>CRS_DEP_TIME</th>\n",
       "      <th>DEP_DELAY</th>\n",
       "      <th>CRS_ARR_TIME</th>\n",
       "      <th>ARR_DELAY</th>\n",
       "      <th>DISTANCE</th>\n",
       "    </tr>\n",
       "  </thead>\n",
       "  <tbody>\n",
       "    <tr>\n",
       "      <th>0</th>\n",
       "      <td>1</td>\n",
       "      <td>1</td>\n",
       "      <td>7</td>\n",
       "      <td>2017-01-01</td>\n",
       "      <td>AA</td>\n",
       "      <td>N787AA</td>\n",
       "      <td>1</td>\n",
       "      <td>JFK</td>\n",
       "      <td>LAX</td>\n",
       "      <td>800</td>\n",
       "      <td>31.0</td>\n",
       "      <td>1142</td>\n",
       "      <td>27.0</td>\n",
       "      <td>2475</td>\n",
       "    </tr>\n",
       "    <tr>\n",
       "      <th>1</th>\n",
       "      <td>1</td>\n",
       "      <td>2</td>\n",
       "      <td>1</td>\n",
       "      <td>2017-01-02</td>\n",
       "      <td>AA</td>\n",
       "      <td>N788AA</td>\n",
       "      <td>1</td>\n",
       "      <td>JFK</td>\n",
       "      <td>LAX</td>\n",
       "      <td>800</td>\n",
       "      <td>-3.0</td>\n",
       "      <td>1142</td>\n",
       "      <td>12.0</td>\n",
       "      <td>2475</td>\n",
       "    </tr>\n",
       "  </tbody>\n",
       "</table>\n",
       "</div>"
      ],
      "text/plain": [
       "   MONTH  DAY_OF_MONTH  DAY_OF_WEEK     FL_DATE OP_UNIQUE_CARRIER TAIL_NUM  \\\n",
       "0      1             1            7  2017-01-01                AA   N787AA   \n",
       "1      1             2            1  2017-01-02                AA   N788AA   \n",
       "\n",
       "  OP_CARRIER_FL_NUM ORIGIN DEST  CRS_DEP_TIME  DEP_DELAY  CRS_ARR_TIME  \\\n",
       "0                 1    JFK  LAX           800       31.0          1142   \n",
       "1                 1    JFK  LAX           800       -3.0          1142   \n",
       "\n",
       "   ARR_DELAY  DISTANCE  \n",
       "0       27.0      2475  \n",
       "1       12.0      2475  "
      ]
     },
     "execution_count": 6,
     "metadata": {},
     "output_type": "execute_result"
    }
   ],
   "source": [
    "df.head(2)"
   ]
  },
  {
   "cell_type": "code",
   "execution_count": 7,
   "metadata": {},
   "outputs": [],
   "source": [
    "df_sample = df.sample(n=10000)"
   ]
  },
  {
   "cell_type": "code",
   "execution_count": 9,
   "metadata": {},
   "outputs": [],
   "source": [
    "df_sample.to_csv('sample_data.csv')"
   ]
  },
  {
   "cell_type": "code",
   "execution_count": 7,
   "metadata": {},
   "outputs": [],
   "source": [
    "df['FL_DATE'] = pd.to_datetime(df['FL_DATE'], format=\"%Y/%m/%d\")\n",
    "df['DAY_OF_WEEK'] = df['DAY_OF_WEEK'].map(days_to_rename)\n",
    "df['MONTH'] = df['MONTH'].map(months_to_rename)\n",
    "df['DAY_OF_WEEK'] = df['DAY_OF_WEEK'].astype('category') \n",
    "df['MONTH'] = df['MONTH'].astype('category') \n",
    "df['DELAY_CAT'] = df['DEP_DELAY'].apply(lambda x: 'brak opoznienia' if x < 10 else '< 60' if x >= 11 and x < 60  else '<60, 120>' if x >= 60 and x < 120  else '> 120')\n",
    "df['DELAY_CAT'] =  df['DELAY_CAT'].astype('category')\n",
    "df['DELAYED'] = (df['DEP_DELAY'] > 10).astype(np.int8)\n",
    "df['CRS_DEP_TIME_CAT'] = pd.cut(x=df['CRS_DEP_TIME'], bins=24, labels=np.arange(24)).astype(np.int8)\n",
    "df['CRS_ARR_TIME_CAT'] = pd.cut(x=df['CRS_ARR_TIME'], bins=24, labels=np.arange(24)).astype(np.int8)"
   ]
  },
  {
   "cell_type": "code",
   "execution_count": 8,
   "metadata": {},
   "outputs": [],
   "source": [
    "def count_flights(dep_or_arr, origin_or_dest, new_name):\n",
    "    group = df.groupby(['FL_DATE', dep_or_arr, origin_or_dest]).size().to_frame().reset_index()\n",
    "    group.rename(columns={0: new_name}, inplace=True)\n",
    "    return group"
   ]
  },
  {
   "cell_type": "code",
   "execution_count": 9,
   "metadata": {},
   "outputs": [],
   "source": [
    "## powinno byc CRS_DEP_TIME, nie CAT //\n",
    "def previous_arr():\n",
    "    df_sorted = df.sort_values(by=['FL_DATE', 'CRS_DEP_TIME_CAT'])\n",
    "    pause = df_sorted.groupby(['TAIL_NUM', 'FL_DATE'])['CRS_ARR_TIME_CAT'].shift(1).to_frame()\n",
    "    pause.rename(columns={'CRS_ARR_TIME_CAT': 'PREVIOUS_ARR'}, inplace=True)\n",
    "    return pause"
   ]
  },
  {
   "cell_type": "code",
   "execution_count": 10,
   "metadata": {},
   "outputs": [],
   "source": [
    "def count_delayed():\n",
    "    df_sorted = df.sort_values(by=['FL_DATE', 'CRS_DEP_TIME'])\n",
    "    rolling = df_sorted.groupby(['OP_CARRIER_FL_NUM', 'CRS_DEP_TIME'])['DELAYED'].rolling(3).sum().to_frame()\n",
    "    rolling.index = rolling.index.droplevel([0,1])\n",
    "    rolling.rename(columns={'DELAYED': 'ROLLING_DELAYED'}, inplace=True)\n",
    "    return rolling"
   ]
  },
  {
   "cell_type": "code",
   "execution_count": 11,
   "metadata": {},
   "outputs": [],
   "source": [
    "def delay_time_cat():\n",
    "    df_sorted = df.sort_values(by=['FL_DATE', 'CRS_DEP_TIME_CAT'])\n",
    "    gr = df_sorted.groupby(['FL_DATE','ORIGIN', 'CRS_DEP_TIME_CAT'])['DELAYED'].rolling(1).sum().to_frame().reset_index()\n",
    "    return gr"
   ]
  },
  {
   "cell_type": "code",
   "execution_count": 12,
   "metadata": {},
   "outputs": [],
   "source": [
    "num_of_dep = count_flights('CRS_DEP_TIME_CAT', 'ORIGIN', 'NUM_OF_DEP')\n",
    "df = df.merge(num_of_dep, left_on=['FL_DATE', 'CRS_DEP_TIME_CAT', 'ORIGIN'], right_on=['FL_DATE', 'CRS_DEP_TIME_CAT', 'ORIGIN'])\n",
    "df['NUM_OF_DEP'] = df['NUM_OF_DEP'].astype(np.int8)"
   ]
  },
  {
   "cell_type": "code",
   "execution_count": 13,
   "metadata": {},
   "outputs": [],
   "source": [
    "num_of_arr = count_flights('CRS_ARR_TIME_CAT', 'DEST', 'NUM_OF_ARR')\n",
    "df = df.merge(num_of_arr, left_on=['FL_DATE', 'CRS_ARR_TIME_CAT', 'DEST'], right_on=['FL_DATE', 'CRS_ARR_TIME_CAT', 'DEST'])\n",
    "df['NUM_OF_ARR'] = df['NUM_OF_ARR'].astype(np.int8)"
   ]
  },
  {
   "cell_type": "code",
   "execution_count": 14,
   "metadata": {},
   "outputs": [],
   "source": [
    "pause_time = previous_arr()\n",
    "df = df.merge(pause_time, left_index=True, right_index=True, how='left')"
   ]
  },
  {
   "cell_type": "code",
   "execution_count": 15,
   "metadata": {},
   "outputs": [],
   "source": [
    "df['PAUSE_TIME'] = df['CRS_DEP_TIME_CAT'] - df['PREVIOUS_ARR']\n",
    "df['PAUSE_CAT'] = df['PAUSE_TIME'].fillna(50)\n",
    "df['PAUSE_CAT'] = df['PAUSE_TIME'].apply(lambda x: '-1' if x < 0 else '1' if x >= 0 and x < 2 else '2' if x >= 2 and x < 3 else '3' if x >= 3 and x < 4 else '4-6' if x >= 4 and x < 6 else '6+' if x >= 6 and x < 25 else  'dzień')\n",
    "df['PAUSE_CAT'] = df['PAUSE_CAT'].astype('category')\n",
    "df['CRS_DEP_TIME_CAT'] = df['CRS_DEP_TIME_CAT'].astype('category')\n",
    "df['CRS_ARR_TIME_CAT'] = df['CRS_ARR_TIME_CAT'].astype('category')\n",
    "#df.drop('PREVIOUS_ARR', inplace=True, axis=1)\n",
    "#df.drop('PAUSE_TIME', inplace=True, axis=1)"
   ]
  },
  {
   "cell_type": "code",
   "execution_count": 16,
   "metadata": {},
   "outputs": [],
   "source": [
    "roll = count_delayed()\n",
    "df = df.merge(roll, left_index=True, right_index=True)\n",
    "df['ROLLING_DELAYED'].fillna('-1', inplace=True)\n",
    "df['ROLLING_DELAYED'] = df['ROLLING_DELAYED'].astype('category') "
   ]
  },
  {
   "cell_type": "code",
   "execution_count": 17,
   "metadata": {},
   "outputs": [],
   "source": [
    "df.to_csv('data_vis.csv')"
   ]
  },
  {
   "cell_type": "code",
   "execution_count": 17,
   "metadata": {},
   "outputs": [
    {
     "data": {
      "text/plain": [
       "(4990099, 24)"
      ]
     },
     "execution_count": 17,
     "metadata": {},
     "output_type": "execute_result"
    }
   ],
   "source": [
    "columns_df = df.columns\n",
    "df = df[df['PAUSE_CAT'] != '-1'].values\n",
    "df = pd.DataFrame(df, columns=columns_df)\n",
    "df = df[df['ROLLING_DELAYED'] != '-1'].values\n",
    "df = pd.DataFrame(df, columns=columns_df)\n",
    "df.shape"
   ]
  },
  {
   "cell_type": "code",
   "execution_count": 18,
   "metadata": {
    "scrolled": true
   },
   "outputs": [],
   "source": [
    "df['MONTH'] = df['MONTH'].astype('category')\n",
    "df['DAY_OF_WEEK'] = df['DAY_OF_WEEK'].astype('category')\n",
    "df['OP_UNIQUE_CARRIER'] = df['OP_UNIQUE_CARRIER'].astype('category')\n",
    "df['TAIL_NUM'] = df['TAIL_NUM'].astype('category')\n",
    "df['OP_CARRIER_FL_NUM'] = df['OP_CARRIER_FL_NUM'].astype('category')\n",
    "df['ORIGIN'] = df['ORIGIN'].astype('category')\n",
    "df['DEST'] = df['DEST'].astype('category')\n",
    "df['DELAY_CAT'] = df['DELAY_CAT'].astype('category')\n",
    "df['DELAYED'] = df['DELAYED'].astype(np.int8)\n",
    "df['CRS_DEP_TIME_CAT'] = df['CRS_DEP_TIME_CAT'].astype('category')\n",
    "df['CRS_ARR_TIME_CAT'] = df['CRS_ARR_TIME_CAT'].astype('category')\n",
    "df['PAUSE_CAT'] = df['PAUSE_CAT'].astype('category')\n",
    "df['ROLLING_DELAYED'] = df['ROLLING_DELAYED'].astype('category')\n",
    "df['DAY_OF_MONTH'] = df['DAY_OF_MONTH'].astype(np.int8)\n",
    "df['CRS_DEP_TIME'] = df['CRS_DEP_TIME'].astype(np.int16)\n",
    "df['DEP_DELAY'] = df['DEP_DELAY'].astype(np.float16)\n",
    "df['CRS_ARR_TIME'] = df['CRS_ARR_TIME'].astype(np.int16)\n",
    "df['ARR_DELAY'] = df['ARR_DELAY'].astype(np.float16)\n",
    "df['DISTANCE'] = df['DISTANCE'].astype(np.int16)\n",
    "df['NUM_OF_DEP'] = df['NUM_OF_DEP'].astype(np.int8)\n",
    "df['NUM_OF_ARR'] = df['NUM_OF_ARR'].astype(np.int8)\n",
    "df['PREVIOUS_ARR'] = df['PREVIOUS_ARR'].astype(np.float64)\n",
    "df['PAUSE_TIME'] =df['PAUSE_TIME'].astype(np.float64)\n",
    "df['FL_DATE'] = pd.to_datetime(df['FL_DATE'], format=\"%Y/%m/%d\")"
   ]
  },
  {
   "cell_type": "code",
   "execution_count": 20,
   "metadata": {},
   "outputs": [],
   "source": [
    "df.to_csv('data_forecast.csv')"
   ]
  },
  {
   "cell_type": "code",
   "execution_count": 19,
   "metadata": {
    "scrolled": false
   },
   "outputs": [
    {
     "name": "stdout",
     "output_type": "stream",
     "text": [
      "<class 'pandas.core.frame.DataFrame'>\n",
      "RangeIndex: 4990099 entries, 0 to 4990098\n",
      "Data columns (total 24 columns):\n",
      "MONTH                category\n",
      "DAY_OF_MONTH         int8\n",
      "DAY_OF_WEEK          category\n",
      "FL_DATE              datetime64[ns]\n",
      "OP_UNIQUE_CARRIER    category\n",
      "TAIL_NUM             category\n",
      "OP_CARRIER_FL_NUM    category\n",
      "ORIGIN               category\n",
      "DEST                 category\n",
      "CRS_DEP_TIME         int16\n",
      "DEP_DELAY            float16\n",
      "CRS_ARR_TIME         int16\n",
      "ARR_DELAY            float16\n",
      "DISTANCE             int16\n",
      "DELAY_CAT            category\n",
      "DELAYED              int8\n",
      "CRS_DEP_TIME_CAT     category\n",
      "CRS_ARR_TIME_CAT     category\n",
      "NUM_OF_DEP           int8\n",
      "NUM_OF_ARR           int8\n",
      "PREVIOUS_ARR         float64\n",
      "PAUSE_TIME           float64\n",
      "PAUSE_CAT            category\n",
      "ROLLING_DELAYED      category\n",
      "dtypes: category(12), datetime64[ns](1), float16(2), float64(2), int16(3), int8(4)\n",
      "memory usage: 257.6 MB\n"
     ]
    }
   ],
   "source": [
    "df.info()"
   ]
  }
 ],
 "metadata": {
  "hide_input": false,
  "kernelspec": {
   "display_name": "Python 3",
   "language": "python",
   "name": "python3"
  },
  "language_info": {
   "codemirror_mode": {
    "name": "ipython",
    "version": 3
   },
   "file_extension": ".py",
   "mimetype": "text/x-python",
   "name": "python",
   "nbconvert_exporter": "python",
   "pygments_lexer": "ipython3",
   "version": "3.7.3"
  },
  "toc": {
   "base_numbering": 1,
   "nav_menu": {},
   "number_sections": true,
   "sideBar": true,
   "skip_h1_title": false,
   "title_cell": "Table of Contents",
   "title_sidebar": "Contents",
   "toc_cell": false,
   "toc_position": {},
   "toc_section_display": true,
   "toc_window_display": false
  }
 },
 "nbformat": 4,
 "nbformat_minor": 2
}
