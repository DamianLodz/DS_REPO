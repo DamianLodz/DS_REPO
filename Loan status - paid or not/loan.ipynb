{
 "cells": [
  {
   "cell_type": "code",
   "execution_count": 20,
   "metadata": {},
   "outputs": [],
   "source": [
    "import matplotlib.pyplot as plt\n",
    "import pandas as pd\n",
    "import seaborn as sns\n",
    "import numpy as np\n",
    "from sklearn.model_selection import train_test_split\n",
    "from sklearn.model_selection import GridSearchCV\n",
    "from sklearn.impute import SimpleImputer\n",
    "from sklearn.linear_model import LogisticRegression\n",
    "from sklearn.naive_bayes import GaussianNB\n",
    "from sklearn.discriminant_analysis import LinearDiscriminantAnalysis as LDA\n",
    "from sklearn import metrics\n",
    "from sklearn.tree import DecisionTreeClassifier\n",
    "from sklearn.ensemble import RandomForestClassifier\n",
    "from sklearn.model_selection import cross_val_score\n",
    "from sklearn.ensemble import GradientBoostingClassifier\n",
    "from sklearn.ensemble import BaggingClassifier\n",
    "from imblearn.over_sampling import SMOTE\n",
    "from sklearn.neighbors import KNeighborsClassifier\n",
    "from sklearn.ensemble import AdaBoostClassifier\n",
    "from sklearn.model_selection import cross_val_score\n",
    "\n",
    "pd.set_option('display.max_rows', 500)\n",
    "pd.set_option('display.max_columns', 500)\n",
    "pd.set_option('display.width', 1000)"
   ]
  },
  {
   "cell_type": "code",
   "execution_count": 2,
   "metadata": {},
   "outputs": [
    {
     "name": "stderr",
     "output_type": "stream",
     "text": [
      "C:\\Data science\\Anaconda3\\lib\\site-packages\\ipykernel_launcher.py:3: FutureWarning: Sorting because non-concatenation axis is not aligned. A future version\n",
      "of pandas will change to not sort by default.\n",
      "\n",
      "To accept the future behavior, pass 'sort=False'.\n",
      "\n",
      "To retain the current behavior and silence the warning, pass 'sort=True'.\n",
      "\n",
      "  This is separate from the ipykernel package so we can avoid doing imports until\n"
     ]
    }
   ],
   "source": [
    "dftrain = pd.read_csv('trainloan.csv')\n",
    "dftest = pd.read_csv('testloan.csv')\n",
    "df = pd.concat([dftrain, dftest], ignore_index=True)"
   ]
  },
  {
   "cell_type": "code",
   "execution_count": 3,
   "metadata": {},
   "outputs": [
    {
     "data": {
      "text/html": [
       "<div>\n",
       "<style scoped>\n",
       "    .dataframe tbody tr th:only-of-type {\n",
       "        vertical-align: middle;\n",
       "    }\n",
       "\n",
       "    .dataframe tbody tr th {\n",
       "        vertical-align: top;\n",
       "    }\n",
       "\n",
       "    .dataframe thead th {\n",
       "        text-align: right;\n",
       "    }\n",
       "</style>\n",
       "<table border=\"1\" class=\"dataframe\">\n",
       "  <thead>\n",
       "    <tr style=\"text-align: right;\">\n",
       "      <th></th>\n",
       "      <th>ApplicantIncome</th>\n",
       "      <th>CoapplicantIncome</th>\n",
       "      <th>Credit_History</th>\n",
       "      <th>Dependents</th>\n",
       "      <th>Education</th>\n",
       "      <th>Gender</th>\n",
       "      <th>LoanAmount</th>\n",
       "      <th>Loan_Amount_Term</th>\n",
       "      <th>Loan_ID</th>\n",
       "      <th>Loan_Status</th>\n",
       "      <th>Married</th>\n",
       "      <th>Property_Area</th>\n",
       "      <th>Self_Employed</th>\n",
       "    </tr>\n",
       "  </thead>\n",
       "  <tbody>\n",
       "    <tr>\n",
       "      <th>0</th>\n",
       "      <td>5849</td>\n",
       "      <td>0.0</td>\n",
       "      <td>1.0</td>\n",
       "      <td>0</td>\n",
       "      <td>Graduate</td>\n",
       "      <td>Male</td>\n",
       "      <td>NaN</td>\n",
       "      <td>360.0</td>\n",
       "      <td>LP001002</td>\n",
       "      <td>Y</td>\n",
       "      <td>No</td>\n",
       "      <td>Urban</td>\n",
       "      <td>No</td>\n",
       "    </tr>\n",
       "    <tr>\n",
       "      <th>1</th>\n",
       "      <td>4583</td>\n",
       "      <td>1508.0</td>\n",
       "      <td>1.0</td>\n",
       "      <td>1</td>\n",
       "      <td>Graduate</td>\n",
       "      <td>Male</td>\n",
       "      <td>128.0</td>\n",
       "      <td>360.0</td>\n",
       "      <td>LP001003</td>\n",
       "      <td>N</td>\n",
       "      <td>Yes</td>\n",
       "      <td>Rural</td>\n",
       "      <td>No</td>\n",
       "    </tr>\n",
       "    <tr>\n",
       "      <th>2</th>\n",
       "      <td>3000</td>\n",
       "      <td>0.0</td>\n",
       "      <td>1.0</td>\n",
       "      <td>0</td>\n",
       "      <td>Graduate</td>\n",
       "      <td>Male</td>\n",
       "      <td>66.0</td>\n",
       "      <td>360.0</td>\n",
       "      <td>LP001005</td>\n",
       "      <td>Y</td>\n",
       "      <td>Yes</td>\n",
       "      <td>Urban</td>\n",
       "      <td>Yes</td>\n",
       "    </tr>\n",
       "    <tr>\n",
       "      <th>3</th>\n",
       "      <td>2583</td>\n",
       "      <td>2358.0</td>\n",
       "      <td>1.0</td>\n",
       "      <td>0</td>\n",
       "      <td>Not Graduate</td>\n",
       "      <td>Male</td>\n",
       "      <td>120.0</td>\n",
       "      <td>360.0</td>\n",
       "      <td>LP001006</td>\n",
       "      <td>Y</td>\n",
       "      <td>Yes</td>\n",
       "      <td>Urban</td>\n",
       "      <td>No</td>\n",
       "    </tr>\n",
       "    <tr>\n",
       "      <th>4</th>\n",
       "      <td>6000</td>\n",
       "      <td>0.0</td>\n",
       "      <td>1.0</td>\n",
       "      <td>0</td>\n",
       "      <td>Graduate</td>\n",
       "      <td>Male</td>\n",
       "      <td>141.0</td>\n",
       "      <td>360.0</td>\n",
       "      <td>LP001008</td>\n",
       "      <td>Y</td>\n",
       "      <td>No</td>\n",
       "      <td>Urban</td>\n",
       "      <td>No</td>\n",
       "    </tr>\n",
       "  </tbody>\n",
       "</table>\n",
       "</div>"
      ],
      "text/plain": [
       "   ApplicantIncome  CoapplicantIncome  Credit_History Dependents     Education Gender  LoanAmount  Loan_Amount_Term   Loan_ID Loan_Status Married Property_Area Self_Employed\n",
       "0             5849                0.0             1.0          0      Graduate   Male         NaN             360.0  LP001002           Y      No         Urban            No\n",
       "1             4583             1508.0             1.0          1      Graduate   Male       128.0             360.0  LP001003           N     Yes         Rural            No\n",
       "2             3000                0.0             1.0          0      Graduate   Male        66.0             360.0  LP001005           Y     Yes         Urban           Yes\n",
       "3             2583             2358.0             1.0          0  Not Graduate   Male       120.0             360.0  LP001006           Y     Yes         Urban            No\n",
       "4             6000                0.0             1.0          0      Graduate   Male       141.0             360.0  LP001008           Y      No         Urban            No"
      ]
     },
     "execution_count": 3,
     "metadata": {},
     "output_type": "execute_result"
    }
   ],
   "source": [
    "df.head(5)"
   ]
  },
  {
   "cell_type": "code",
   "execution_count": 4,
   "metadata": {},
   "outputs": [],
   "source": [
    "df['ApplicantIncome'] = df['ApplicantIncome'].astype(np.int32)\n",
    "df['CoapplicantIncome'] = df['CoapplicantIncome'] .astype(np.int32)\n",
    "df['Credit_History'] = df['Credit_History'].astype('category')\n",
    "df['Credit_History'] = df['Credit_History'].astype('category')\n",
    "df['Dependents'] = df['Dependents'].astype('category')\n",
    "df['Education'] = df['Education'].astype('category')\n",
    "df['Gender'] = df['Gender'].astype('category')\n",
    "df['LoanAmount'] = df['LoanAmount'].astype(np.float16)\n",
    "df['Loan_Amount_Term'] = df['Loan_Amount_Term'].astype('category')\n",
    "df['Married'] = df['Married'].astype('category')\n",
    "df['Property_Area'] = df['Property_Area'].astype('category')\n",
    "df['Self_Employed'] = df['Self_Employed'].astype('category')\n",
    "df.drop('Loan_ID', inplace=True, axis=1)\n",
    "df['Loan_Status'] = (df['Loan_Status'] == 'Y').astype(np.int8)"
   ]
  },
  {
   "cell_type": "code",
   "execution_count": 5,
   "metadata": {
    "scrolled": true
   },
   "outputs": [
    {
     "data": {
      "text/plain": [
       "ApplicantIncome       0\n",
       "CoapplicantIncome     0\n",
       "Credit_History       79\n",
       "Dependents           25\n",
       "Education             0\n",
       "Gender               24\n",
       "LoanAmount           27\n",
       "Loan_Amount_Term     20\n",
       "Loan_Status           0\n",
       "Married               3\n",
       "Property_Area         0\n",
       "Self_Employed        55\n",
       "dtype: int64"
      ]
     },
     "execution_count": 5,
     "metadata": {},
     "output_type": "execute_result"
    }
   ],
   "source": [
    "df.isnull().sum()"
   ]
  },
  {
   "cell_type": "code",
   "execution_count": 6,
   "metadata": {},
   "outputs": [],
   "source": [
    "df = df.copy()"
   ]
  },
  {
   "cell_type": "code",
   "execution_count": 7,
   "metadata": {},
   "outputs": [],
   "source": [
    "df.loc[df['Loan_Status'] == 1, 'Credit_History'] = df.loc[df['Loan_Status'] == 1, 'Credit_History'].fillna(1)\n",
    "df.loc[df['Loan_Status'] == 0, 'Credit_History'] = df.loc[df['Loan_Status'] == 0, 'Credit_History'].fillna(0)\n",
    "df.loc[df['Married'] == 'No', 'Dependents'] = df.loc[df['Married'] == 'No', 'Dependents'].fillna('0')\n",
    "df.loc[df['Credit_History'] == 1, 'Dependents'] = df.loc[df['Credit_History'] == 1, 'Dependents'].fillna('0')\n",
    "df.loc[:,'Dependents'] = df['Dependents'].fillna(df['Dependents'].mode()[0])\n",
    "df.loc[(df['Married'] == 'Yes') & (df['ApplicantIncome'] > 20000), 'Gender'] = df.loc[(df['Married'] == 'Yes') & (df['ApplicantIncome'] > 20000), 'Gender'].fillna('Male')\n",
    "df.loc[(df['Education'] == 'Graduate') & (df['ApplicantIncome'] > 10000), 'Gender'] = df.loc[(df['Education'] == 'Graduate') & (df['ApplicantIncome'] > 10000), 'Gender'].fillna('Male')\n",
    "df.loc[:,'Gender'] = df['Gender'].fillna(df['Gender'].mode()[0])\n",
    "df.loc[:,'LoanAmount'] = df['LoanAmount'].fillna(df['LoanAmount'].median())\n",
    "df.loc[:,'Loan_Amount_Term'] = df['Loan_Amount_Term'].fillna(df['Loan_Amount_Term'].mode()[0])\n",
    "df.loc[(df['Dependents'] == 'Graduate') & (df['ApplicantIncome'] > 10000), 'Gender'] = df.loc[(df['Dependents'] == 'Graduate') & (df['ApplicantIncome'] > 10000), 'Gender'].fillna('Male')\n",
    "df.loc[:,'Married'] = df['Married'].fillna(df['Married'].mode()[0])\n",
    "df.loc[:,'Self_Employed'] = df['Self_Employed'].fillna(df['Self_Employed'].mode()[0])"
   ]
  },
  {
   "cell_type": "code",
   "execution_count": 9,
   "metadata": {
    "scrolled": true
   },
   "outputs": [
    {
     "name": "stdout",
     "output_type": "stream",
     "text": [
      "<class 'pandas.core.frame.DataFrame'>\n",
      "RangeIndex: 981 entries, 0 to 980\n",
      "Data columns (total 12 columns):\n",
      "ApplicantIncome      981 non-null int32\n",
      "CoapplicantIncome    981 non-null int32\n",
      "Credit_History       981 non-null category\n",
      "Dependents           981 non-null category\n",
      "Education            981 non-null category\n",
      "Gender               981 non-null category\n",
      "LoanAmount           981 non-null float16\n",
      "Loan_Amount_Term     981 non-null category\n",
      "Loan_Status          981 non-null int8\n",
      "Married              981 non-null category\n",
      "Property_Area        981 non-null category\n",
      "Self_Employed        981 non-null category\n",
      "dtypes: category(8), float16(1), int32(2), int8(1)\n",
      "memory usage: 19.4 KB\n"
     ]
    }
   ],
   "source": [
    "df.info()"
   ]
  },
  {
   "cell_type": "code",
   "execution_count": 10,
   "metadata": {},
   "outputs": [],
   "source": [
    "x_train = df.iloc[:dftrain.shape[0]][:].drop(columns='Loan_Status')\n",
    "y_train = df.iloc[:dftrain.shape[0]]['Loan_Status']\n",
    "x_test = df.iloc[dftrain.shape[0]:][:].drop(columns='Loan_Status')\n",
    "x_train = pd.get_dummies(x_train, drop_first=True)\n",
    "x_test = pd.get_dummies(x_test, drop_first=True)"
   ]
  },
  {
   "cell_type": "code",
   "execution_count": 16,
   "metadata": {},
   "outputs": [],
   "source": [
    "logit = LogisticRegression(solver='liblinear')"
   ]
  },
  {
   "cell_type": "code",
   "execution_count": 17,
   "metadata": {},
   "outputs": [
    {
     "name": "stdout",
     "output_type": "stream",
     "text": [
      "82.90371433126097\n",
      "[0.82439024 0.80487805 0.85784314]\n"
     ]
    }
   ],
   "source": [
    "cv = cross_val_score(logit, x_train, y_train, cv=3)\n",
    "print(cv.mean()*100)\n",
    "print(cv)"
   ]
  },
  {
   "cell_type": "code",
   "execution_count": 18,
   "metadata": {},
   "outputs": [],
   "source": [
    "param = {'C': np.linspace(0.01,1,10),\n",
    "        'penalty': ['l1', 'l2'],\n",
    "        'class_weight': ['balanced', None]}"
   ]
  },
  {
   "cell_type": "code",
   "execution_count": 19,
   "metadata": {},
   "outputs": [
    {
     "name": "stdout",
     "output_type": "stream",
     "text": [
      "LogisticRegression(C=0.89, class_weight=None, dual=False, fit_intercept=True,\n",
      "          intercept_scaling=1, max_iter=100, multi_class='warn',\n",
      "          n_jobs=None, penalty='l1', random_state=None, solver='liblinear',\n",
      "          tol=0.0001, verbose=0, warm_start=False)\n"
     ]
    }
   ],
   "source": [
    "grid = GridSearchCV(logit, param_grid=param, scoring='accuracy', cv=3)\n",
    "grid.fit(x_train, y_train)\n",
    "print(grid.best_estimator_)"
   ]
  },
  {
   "cell_type": "code",
   "execution_count": 21,
   "metadata": {},
   "outputs": [
    {
     "name": "stdout",
     "output_type": "stream",
     "text": [
      "82.90371433126097\n",
      "[0.82439024 0.80487805 0.85784314]\n"
     ]
    },
    {
     "data": {
      "text/plain": [
       "BaggingClassifier(base_estimator=LogisticRegression(C=0.89, class_weight=None, dual=False, fit_intercept=True,\n",
       "          intercept_scaling=1, max_iter=100, multi_class='warn',\n",
       "          n_jobs=None, penalty='l1', random_state=None, solver='liblinear',\n",
       "          tol=0.0001, verbose=0, warm_start=False),\n",
       "         bootstrap=True, bootstrap_features=False, max_features=20,\n",
       "         max_samples=300, n_estimators=400, n_jobs=None, oob_score=False,\n",
       "         random_state=None, verbose=0, warm_start=False)"
      ]
     },
     "execution_count": 21,
     "metadata": {},
     "output_type": "execute_result"
    }
   ],
   "source": [
    "bagg = BaggingClassifier(grid.best_estimator_, 400, max_features=20, max_samples=300)\n",
    "cv = cross_val_score(bagg, x_train, y_train, cv=3)\n",
    "print(cv.mean()*100)\n",
    "print(cv)\n",
    "bagg.fit(x_train, y_train)"
   ]
  },
  {
   "cell_type": "code",
   "execution_count": null,
   "metadata": {},
   "outputs": [],
   "source": [
    "pred_test = bagg.predict(x_test)\n",
    "pred_test = pd.Series(pred_test).map({1: 'Y', 0: 'N'})"
   ]
  },
  {
   "cell_type": "code",
   "execution_count": null,
   "metadata": {},
   "outputs": [],
   "source": [
    "submit = pd.DataFrame({'Loan_ID': dftest['Loan_ID'], 'Loan_Status': pred_test})\n",
    "submit.to_csv('submit.csv', index=False)"
   ]
  }
 ],
 "metadata": {
  "kernelspec": {
   "display_name": "Python 3",
   "language": "python",
   "name": "python3"
  },
  "language_info": {
   "codemirror_mode": {
    "name": "ipython",
    "version": 3
   },
   "file_extension": ".py",
   "mimetype": "text/x-python",
   "name": "python",
   "nbconvert_exporter": "python",
   "pygments_lexer": "ipython3",
   "version": "3.7.1"
  }
 },
 "nbformat": 4,
 "nbformat_minor": 2
}
