{
 "cells": [
  {
   "cell_type": "code",
   "execution_count": 2,
   "id": "c9d77033-7e26-4bb5-ba4e-74eecdfe9571",
   "metadata": {},
   "outputs": [],
   "source": [
    "import os\n",
    "import pandas as pd\n",
    "import numpy as np\n",
    "import matplotlib.pyplot as plt\n",
    "import sqlite3\n",
    "import geopandas as gpd\n",
    "import requests\n",
    "\n",
    "from zipfile import ZipFile\n",
    "\n",
    "from shapely.geometry import Point, Polygon"
   ]
  },
  {
   "cell_type": "code",
   "execution_count": 5,
   "id": "7a9e0c01-091b-44e8-8771-adfa414a7975",
   "metadata": {},
   "outputs": [],
   "source": [
    "def konwersja_wspolrzedne(stopnie, minuty, sekundy, kierunek):\n",
    "    wspolrzedne = stopnie + (minuty / 60) + (sekundy / 3600)\n",
    "    if kierunek in ['W', 'S']:\n",
    "        wspolrzedne = -decimal_degrees\n",
    "    return wspolrzedne"
   ]
  },
  {
   "cell_type": "markdown",
   "id": "39a95078-de84-4fdc-8fc9-6d21a300a2c1",
   "metadata": {},
   "source": [
    "#### TERYT "
   ]
  },
  {
   "cell_type": "code",
   "execution_count": 6,
   "id": "6ecb8b3c-615a-4ae2-986b-b115a4ab12a4",
   "metadata": {},
   "outputs": [],
   "source": [
    "TERYT = pd.read_csv('TERC_Urzedowy_2025-07-03/TERC_Urzedowy_2025-07-03.csv', sep=';', dtype={'WOJ': 'str', 'POW': 'str', 'GMI': 'str', 'RODZ': 'str'})"
   ]
  },
  {
   "cell_type": "code",
   "execution_count": 7,
   "id": "6760d1e2-71a6-4c4f-92b9-b2c9df4221c8",
   "metadata": {},
   "outputs": [],
   "source": [
    "TERYT['ID_WOJ'] = TERYT['WOJ']\n",
    "TERYT['ID_POW'] = TERYT['WOJ']+TERYT['POW']\n",
    "TERYT['ID_GMI'] = TERYT['WOJ']+TERYT['POW']+TERYT['GMI']+TERYT['RODZ']"
   ]
  },
  {
   "cell_type": "code",
   "execution_count": 8,
   "id": "8a1eaa4f-2965-4615-a525-19f281186ac4",
   "metadata": {},
   "outputs": [],
   "source": [
    "WOJ = TERYT[TERYT['POW'].isnull()]\n",
    "WOJ = WOJ.drop(columns={'ID_POW', 'ID_GMI','WOJ', 'POW', 'GMI', 'RODZ', 'STAN_NA'})\n",
    "POW = TERYT[(TERYT['GMI'].isnull()) & (TERYT['POW'].notnull())]\n",
    "POW = POW.drop(columns={'WOJ', 'POW', 'GMI', 'RODZ', 'STAN_NA', 'ID_GMI'})\n",
    "GMI = TERYT[(TERYT['GMI'].notnull()) & (TERYT['RODZ'].notnull())]\n",
    "GMI = GMI.drop(columns={'WOJ','POW', 'GMI', 'STAN_NA', 'ID_WOJ'})"
   ]
  },
  {
   "cell_type": "code",
   "execution_count": 9,
   "id": "d37bdea8-82b2-43ea-94f3-a2705ba49483",
   "metadata": {},
   "outputs": [],
   "source": [
    "WOJ.to_csv('WOJ.csv', index=False, sep=',', encoding='Windows 1250')\n",
    "POW.to_csv('POW.csv', index=False, sep=',', encoding='Windows 1250')\n",
    "GMI.to_csv('GMI.csv', index=False, sep=',', encoding='Windows 1250')"
   ]
  },
  {
   "cell_type": "markdown",
   "id": "7b616773-12f6-42d9-8e22-70d0aa8a3c01",
   "metadata": {},
   "source": [
    "#### DANE "
   ]
  },
  {
   "cell_type": "code",
   "execution_count": 10,
   "id": "b302075c-8769-4966-8ae6-bd2e55f4b765",
   "metadata": {},
   "outputs": [],
   "source": [
    "## ID, NAZWA ORAZ KOD STACJI\n",
    "WYKAZ_STACJI = pd.read_csv('wykaz_stacji.csv', encoding='Windows 1250', header=None, names=['ID', 'NAZWA', 'KOD'], dtype={'KOD': 'object', 'ID': 'object'})\n",
    "\n",
    "WYKAZ_STACJI['KOD'] = WYKAZ_STACJI['KOD'].str.strip()"
   ]
  },
  {
   "cell_type": "code",
   "execution_count": 11,
   "id": "564c539d-f0d5-4e37-b8fa-31d5012430bb",
   "metadata": {},
   "outputs": [],
   "source": [
    "# WSPOLRZEDNE GPS STACJI WRAZ KODEM I NAZWA\n",
    "STACJE = pd.read_excel(\"STACJE.xlsx\", header=None)\n",
    "STACJE.columns = ['KOLUMNA']"
   ]
  },
  {
   "cell_type": "code",
   "execution_count": 12,
   "id": "454a399d-2f61-4159-a6c1-1a7dd1bf410f",
   "metadata": {},
   "outputs": [],
   "source": [
    "# WYCIĄGNIECIE WSPOLRZEDNYCH - AKTUALNY FORMAT SIE NIE NADAWAL\n",
    "STACJE[\"KOD\"] = STACJE['KOLUMNA'].str.split(' ').str[0]\n",
    "STACJE[\"NAZWA\"] = STACJE['KOLUMNA'].str.split(' ').str[1]\n",
    "\n",
    "STACJE[\"_1\"] = STACJE['KOLUMNA'].str.split(' ').str[2]\n",
    "STACJE[\"_2\"] = STACJE['KOLUMNA'].str.split(' ').str[3]\n",
    "STACJE[\"_3\"] = STACJE['KOLUMNA'].str.split(' ').str[4]\n",
    "STACJE[\"_4\"] = STACJE['KOLUMNA'].str.split(' ').str[5]\n",
    "STACJE[\"_5\"] = STACJE['KOLUMNA'].str.split(' ').str[6]\n",
    "STACJE[\"_6\"] = STACJE['KOLUMNA'].str.split(' ').str[7]\n",
    "\n",
    "STACJE['D1'] = STACJE['_1'].astype(int)\n",
    "STACJE['D2'] = STACJE['_2'].astype(int)\n",
    "STACJE['D3'] = np.where(STACJE['_5'].str.isdigit(), STACJE['_3'], '0').astype(int)\n",
    "\n",
    "STACJE['S1'] = np.where(STACJE['_5'].str.isdigit(), STACJE['_4'], STACJE['_3']).astype(int)\n",
    "STACJE['S2'] = np.where(STACJE['_5'].str.isdigit(), STACJE['_5'], STACJE['_4']).astype(int)\n",
    "STACJE['S3'] = np.where(STACJE['_5'].str.isdigit(), STACJE['_6'], '0').astype(int)\n",
    "\n",
    "# STACJE[~STACJE['D1'].apply(lambda x: str(x).isdigit())]\n",
    "\n",
    "STACJE['LAT'] = konwersja_wspolrzedne(STACJE['S1'], STACJE['S2'], STACJE['S3'], 'N')\n",
    "STACJE['LON'] = konwersja_wspolrzedne(STACJE['D1'], STACJE['D2'], STACJE['D3'], 'N')"
   ]
  },
  {
   "cell_type": "code",
   "execution_count": 13,
   "id": "16d6cea9-95a3-4e55-996c-2db0bc029d0b",
   "metadata": {},
   "outputs": [],
   "source": [
    "LISTA_STACJE = (WYKAZ_STACJI.merge(STACJE[['KOD', 'LAT', 'LON']], 'left', on='KOD', indicator=True)\n",
    "                .loc[lambda x: x['_merge'] == 'both']\n",
    "                .reset_index(drop=True)\n",
    "                .drop(columns=['_merge'])\n",
    "               )\n"
   ]
  },
  {
   "cell_type": "markdown",
   "id": "c4f62b39-b4ed-4e7e-a96f-13c7bab77809",
   "metadata": {},
   "source": [
    "#### SHAPEFILE"
   ]
  },
  {
   "cell_type": "code",
   "execution_count": 16,
   "id": "aaaa8550-6e87-4d0a-9484-a499988a3c94",
   "metadata": {},
   "outputs": [],
   "source": [
    "shp_w = gpd.read_file('00_jednostki_administracyjne/A01_Granice_wojewodztw.shp')\n",
    "shp_p = gpd.read_file('00_jednostki_administracyjne/A02_Granice_powiatow.shp')\n",
    "shp_g = gpd.read_file('00_jednostki_administracyjne/A03_Granice_gmin.shp')"
   ]
  },
  {
   "cell_type": "code",
   "execution_count": 17,
   "id": "9ae4e7a5-4305-4fc1-975c-e165e115ce5f",
   "metadata": {},
   "outputs": [
    {
     "name": "stderr",
     "output_type": "stream",
     "text": [
      "C:\\Users\\drynkiewicz\\AppData\\Local\\Temp\\ipykernel_20184\\1002392590.py:10: FutureWarning: Setting an item of incompatible dtype is deprecated and will raise in a future error of pandas. Value '08' has dtype incompatible with float64, please explicitly cast to a compatible dtype first.\n",
      "  LISTA_STACJE.loc[stacja, 'ID_WOJ'] = wojewodztwo_teryt\n",
      "C:\\Users\\drynkiewicz\\AppData\\Local\\Temp\\ipykernel_20184\\1002392590.py:17: FutureWarning: Setting an item of incompatible dtype is deprecated and will raise in a future error of pandas. Value '0809' has dtype incompatible with float64, please explicitly cast to a compatible dtype first.\n",
      "  LISTA_STACJE.loc[stacja, 'ID_POW'] = powiat_teryt\n",
      "C:\\Users\\drynkiewicz\\AppData\\Local\\Temp\\ipykernel_20184\\1002392590.py:24: FutureWarning: Setting an item of incompatible dtype is deprecated and will raise in a future error of pandas. Value '0809013' has dtype incompatible with float64, please explicitly cast to a compatible dtype first.\n",
      "  LISTA_STACJE.loc[stacja, 'ID_GMI'] = gmina_teryt\n"
     ]
    }
   ],
   "source": [
    "for stacja in range(LISTA_STACJE.shape[0]):\n",
    "    # print(stacja)\n",
    "    point = Point(tuple(LISTA_STACJE.loc[stacja][['LON', 'LAT']]))\n",
    "    for wojewodztwo in range(shp_w.shape[0]):\n",
    "        wojewodztwo_teryt = shp_w.loc[wojewodztwo, 'JPT_KOD_JE']\n",
    "        polygon = shp_w.loc[wojewodztwo, 'geometry']\n",
    "        czy_w_srodku = polygon.contains(point)\n",
    "        if czy_w_srodku == True:\n",
    "            # print('TAK')\n",
    "            LISTA_STACJE.loc[stacja, 'ID_WOJ'] = wojewodztwo_teryt\n",
    "    for powiat in range(shp_p.shape[0]):\n",
    "        powiat_teryt = shp_p.loc[powiat, 'JPT_KOD_JE']\n",
    "        polygon = shp_p.loc[powiat, 'geometry']\n",
    "        czy_w_srodku = polygon.contains(point)\n",
    "        if czy_w_srodku == True:\n",
    "            # print('TAK')\n",
    "            LISTA_STACJE.loc[stacja, 'ID_POW'] = powiat_teryt\n",
    "    for gmina in range(shp_g.shape[0]):\n",
    "        gmina_teryt = shp_g.loc[gmina, 'JPT_KOD_JE']\n",
    "        polygon = shp_g.loc[gmina, 'geometry']\n",
    "        czy_w_srodku = polygon.contains(point)\n",
    "        if czy_w_srodku == True:\n",
    "            # print('TAK')\n",
    "            LISTA_STACJE.loc[stacja, 'ID_GMI'] = gmina_teryt"
   ]
  },
  {
   "cell_type": "code",
   "execution_count": 43,
   "id": "47dd9c3e-6c49-4111-8ddb-eb7f40f42770",
   "metadata": {},
   "outputs": [],
   "source": [
    "## stacja w darłowie znajduje się na morzu poza zakresem shapefile\n",
    "LISTA_STACJE = LISTA_STACJE.fillna({'ID_WOJ': '32', 'ID_POW': '3213', 'ID_GMI': '3213011'})"
   ]
  },
  {
   "cell_type": "code",
   "execution_count": 19,
   "id": "81279229-21d5-4c9b-bdce-4ef0b81d8485",
   "metadata": {},
   "outputs": [],
   "source": [
    "(LISTA_STACJE\n",
    " .to_csv('LISTA_STACJE.csv', index=False, sep=',', encoding='Windows 1250')\n",
    ")"
   ]
  },
  {
   "cell_type": "markdown",
   "id": "d36e0dee-b1b9-4cc6-9554-3c2d63cf6511",
   "metadata": {},
   "source": [
    "#### DANE METEO "
   ]
  },
  {
   "cell_type": "code",
   "execution_count": 12,
   "id": "abcf8c82-5fd8-4d15-bb77-5189a1622e9b",
   "metadata": {},
   "outputs": [
    {
     "name": "stdout",
     "output_type": "stream",
     "text": [
      "2001\n",
      "2002\n",
      "2003\n",
      "2004\n",
      "2005\n",
      "2006\n",
      "2007\n",
      "2008\n",
      "2009\n",
      "2010\n",
      "2011\n",
      "2012\n",
      "2013\n",
      "2014\n",
      "2015\n",
      "2016\n",
      "2017\n",
      "2018\n",
      "2019\n",
      "2020\n",
      "2021\n",
      "2022\n",
      "2023\n",
      "2024\n",
      "2025\n"
     ]
    }
   ],
   "source": [
    "for rok in [str(x) for x in np.arange(2001, 2026, 1)]:\n",
    "    for msc in [\"01\", \"02\", \"03\", \"04\" ,\"05\",'06',\"07\",'08','09','10','11','12']:\n",
    "        LINK = f\"https://danepubliczne.imgw.pl/data/dane_pomiarowo_obserwacyjne/dane_meteorologiczne/dobowe/klimat/{rok}/{rok}_{msc}_k.zip\"\n",
    "        PLIK = requests.get(LINK).content\n",
    "\n",
    "        with open(f\"{rok+\"_\"+msc}.zip\", \"wb\") as file:\n",
    "            file.write(PLIK)\n",
    "    print(rok)\n"
   ]
  },
  {
   "cell_type": "code",
   "execution_count": 15,
   "id": "cffff71c-e427-47a8-a56f-294589c0087f",
   "metadata": {},
   "outputs": [
    {
     "name": "stdout",
     "output_type": "stream",
     "text": [
      "2024_07.zip\n",
      "blad\n"
     ]
    }
   ],
   "source": [
    "for plik in os.listdir('PLIKI_NOWE/'):\n",
    "    # print(plik)\n",
    "    with ZipFile(f'PLIKI_NOWE/{plik}', 'r') as plik_zip:\n",
    "        try:\n",
    "            plik_zip.extractall('C:\\\\PythonProjects\\\\meteo\\\\PLIKI_CSV')\n",
    "        except:\n",
    "            print(plik)\n",
    "            print('blad')\n",
    "            pass\n",
    "    "
   ]
  },
  {
   "cell_type": "code",
   "execution_count": 3,
   "id": "f9511d1f-122e-4667-be7d-be56cc3fda96",
   "metadata": {},
   "outputs": [],
   "source": [
    "df = pd.DataFrame()\n",
    "for plik in os.listdir('PLIKI_CSV/'):\n",
    "    if plik[:5] != 'k_d_t':\n",
    "        df_temp = pd.read_csv(f'PLIKI_CSV/{plik}', encoding='Windows 1250', header=None, usecols=[0,1,2,3,4,5,7,9, 13], names=['ID', 'NAZWA', 'ROK', 'MIESIAC', 'DZIEN', 'TEMP_MAX', 'TEMP_MIN', 'TEMP_MEAN', 'PREC'], dtype={'ID': 'object'})\n",
    "        \n",
    "        df = pd.concat([df, df_temp], axis=0, ignore_index=True)"
   ]
  },
  {
   "cell_type": "code",
   "execution_count": 77,
   "id": "006573df-367f-4617-bf22-e5dcee9c92e1",
   "metadata": {},
   "outputs": [],
   "source": [
    "df.drop(columns=['NAZWA']).to_csv('DANE_METEO.csv', index=False, sep=',', encoding='Windows 1250')"
   ]
  },
  {
   "cell_type": "markdown",
   "id": "0743d0e1-284f-4dc8-a032-5b5240ff4fb6",
   "metadata": {},
   "source": [
    "#### SQL "
   ]
  },
  {
   "cell_type": "code",
   "execution_count": 60,
   "id": "1cf0eda0-f26a-47ee-9cba-537fcaedf3a5",
   "metadata": {},
   "outputs": [],
   "source": [
    "conn = sqlite3.connect(\"METEO_DB.sqlite\")\n",
    "cursor = conn.cursor()"
   ]
  },
  {
   "cell_type": "code",
   "execution_count": 61,
   "id": "791308ec-e47b-45ec-8f0f-312362dfc6d6",
   "metadata": {},
   "outputs": [
    {
     "data": {
      "text/plain": [
       "<sqlite3.Cursor at 0x22640e6e1c0>"
      ]
     },
     "execution_count": 61,
     "metadata": {},
     "output_type": "execute_result"
    }
   ],
   "source": [
    "cursor.execute(\"\"\"CREATE TABLE WOJ (\n",
    "    ID_WOJ   TEXT PRIMARY KEY,\n",
    "    NAZWA TEXT    NOT NULL,\n",
    "    NAZWA_DOD      TEXT NOT NULL);\n",
    "    \"\"\")\n",
    "\n",
    "cursor.execute(\"\"\"CREATE TABLE POW (\n",
    "    ID_POW   TEXT PRIMARY KEY,\n",
    "    NAZWA TEXT    NOT NULL,\n",
    "    NAZWA_DOD      TEXT NOT NULL,\n",
    "    ID_WOJ TEXT NOT NULL,\n",
    "    FOREIGN KEY (ID_WOJ)\n",
    "       REFERENCES WOJ (ID_WOJ) );\n",
    "    \"\"\")\n",
    "\n",
    "cursor.execute(\"\"\"CREATE TABLE GMI (\n",
    "    ID_GMI   TEXT PRIMARY KEY,\n",
    "    NAZWA TEXT    NOT NULL,\n",
    "    NAZWA_DOD      TEXT NOT NULL,\n",
    "    RODZ TEXT NOT NULL,\n",
    "    ID_POW TEXT NOT NULL,\n",
    "    FOREIGN KEY (ID_POW)\n",
    "       REFERENCES POW (ID_POW) );\n",
    "    \"\"\")\n",
    "\n",
    "cursor.execute(\"\"\"CREATE TABLE STACJE (\n",
    "    ID_STACJA   TEXT PRIMARY KEY,\n",
    "    NAZWA TEXT    NOT NULL,\n",
    "    KOD      TEXT NOT NULL,\n",
    "    LAT REAL NOT NULL,\n",
    "    LON REAL NOT NULL,\n",
    "    ID_WOJ TEXT NOT NULL,\n",
    "    ID_POW TEXT NOT NULL,\n",
    "    ID_GMI TEXT NOT NULL,\n",
    "    FOREIGN KEY (ID_WOJ) REFERENCES WOJ (ID_WOJ),\n",
    "    FOREIGN KEY (ID_POW) REFERENCES POW (ID_POW),\n",
    "    FOREIGN KEY (ID_GMI) REFERENCES GMI (ID_GMI)\n",
    "    );\n",
    "    \"\"\")\n",
    "\n",
    "cursor.execute(\"\"\"CREATE TABLE METEO (\n",
    "    METEO_ID   INTEGER PRIMARY KEY AUTOINCREMENT,\n",
    "    ID_STACJA TEXT    NOT NULL,\n",
    "    ROK      TEXT NOT NULL,\n",
    "    MIESIAC TEXT NOT NULL,\n",
    "    DZIEN TEXT NOT NULL,\n",
    "    TEMP_MAX REAL NOT NULL,\n",
    "    TEMP_MIN REAL NOT NULL,\n",
    "    TEMP_MEAN REAL NOT NULL,\n",
    "    PREC REAL NOT NULL,\n",
    "    FOREIGN KEY (ID_STACJA) REFERENCES STACJE (ID_STACJA)\n",
    "    );\n",
    "    \"\"\")"
   ]
  },
  {
   "cell_type": "code",
   "execution_count": 24,
   "id": "5225309c-9431-41d5-ad97-b5c0aed854a7",
   "metadata": {},
   "outputs": [],
   "source": [
    "conn = sqlite3.connect(\"METEO_DB.sqlite\")\n",
    "cursor = conn.cursor()"
   ]
  },
  {
   "cell_type": "code",
   "execution_count": 62,
   "id": "0328ea4b-d40e-48b0-a158-dc7ec9769604",
   "metadata": {},
   "outputs": [
    {
     "data": {
      "text/plain": [
       "3952"
      ]
     },
     "execution_count": 62,
     "metadata": {},
     "output_type": "execute_result"
    }
   ],
   "source": [
    "WOJ.to_sql('WOJ', conn, if_exists='append', index=False)\n",
    "POW.to_sql('POW', conn, if_exists='append', index=False)\n",
    "GMI.to_sql('GMI', conn, if_exists='append', index=False)"
   ]
  },
  {
   "cell_type": "code",
   "execution_count": 63,
   "id": "590ffa80-b709-4751-9e20-6ef0a6b39415",
   "metadata": {},
   "outputs": [
    {
     "data": {
      "text/plain": [
       "339"
      ]
     },
     "execution_count": 63,
     "metadata": {},
     "output_type": "execute_result"
    }
   ],
   "source": [
    "LISTA_STACJE.rename(columns={'ID': 'ID_STACJA'}).to_sql('STACJE', conn, if_exists='append', index=False)"
   ]
  },
  {
   "cell_type": "code",
   "execution_count": 64,
   "id": "2508ed4c-f43e-44f8-a703-26611d563320",
   "metadata": {},
   "outputs": [
    {
     "data": {
      "text/plain": [
       "1054042"
      ]
     },
     "execution_count": 64,
     "metadata": {},
     "output_type": "execute_result"
    }
   ],
   "source": [
    "df.fillna(-1000).rename(columns={'ID': \"ID_STACJA\"}).drop(columns=['NAZWA']).to_sql('METEO', conn, if_exists='append', index=False)"
   ]
  }
 ],
 "metadata": {
  "kernelspec": {
   "display_name": "Python 3 (ipykernel)",
   "language": "python",
   "name": "python3"
  },
  "language_info": {
   "codemirror_mode": {
    "name": "ipython",
    "version": 3
   },
   "file_extension": ".py",
   "mimetype": "text/x-python",
   "name": "python",
   "nbconvert_exporter": "python",
   "pygments_lexer": "ipython3",
   "version": "3.12.0"
  }
 },
 "nbformat": 4,
 "nbformat_minor": 5
}
